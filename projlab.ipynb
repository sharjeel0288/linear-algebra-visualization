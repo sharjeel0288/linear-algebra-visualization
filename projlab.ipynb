{
 "cells": [
  {
   "cell_type": "code",
   "execution_count": 4,
   "metadata": {},
   "outputs": [],
   "source": [
    "import os\n",
    "import sys\n",
    "import glob\n",
    "import matplotlib.pyplot as plt\n",
    "import matplotlib.patches as patch\n",
    "import numpy as np\n",
    "import pandas as pd\n",
    "import scipy.linalg as la\n",
    "import sympy as sy\n",
    "\n",
    "%matplotlib inline\n",
    "%precision 4\n",
    "plt.style.use('ggplot')\n",
    "from scipy import linalg\n",
    "np.set_printoptions(suppress=True)\n",
    "\n"
   ]
  },
  {
   "cell_type": "code",
   "execution_count": 5,
   "metadata": {},
   "outputs": [],
   "source": [
    "\n",
    "plt.style.use('ggplot')"
   ]
  },
  {
   "cell_type": "markdown",
   "metadata": {},
   "source": [
    "nner products are closely related to norms and distance. The (standard) inner product (or dot product) of two n dimensional vectors v and w is given by:\n",
    "\n",
    "<v,w>=v1w1+...+vnwn\n",
    "I.e. the inner product is just the sum of the product of the components. Certain ‘special’ matrices also define inner products, and we will see some of those later."
   ]
  },
  {
   "cell_type": "code",
   "execution_count": 6,
   "metadata": {},
   "outputs": [
    {
     "data": {
      "text/plain": [
       "<function matplotlib.patches.Patch.draw(self, renderer)>"
      ]
     },
     "execution_count": 6,
     "metadata": {},
     "output_type": "execute_result"
    },
    {
     "data": {
      "image/png": "[encoded data removed]",
      "text/plain": [
       "<Figure size 576x288 with 2 Axes>"
      ]
     },
     "metadata": {},
     "output_type": "display_data"
    }
   ],
   "source": [
    "e1 = np.array([1,0])\n",
    "e2 = np.array([0,1])\n",
    "A = np.array([[2,3],[3,1]])\n",
    "v1=A.dot(e1)\n",
    "v2=A.dot(e2)\n",
    "plt.figure(figsize=(8,4))\n",
    "plt.subplot(1,2,1)\n",
    "plot_vectors([e1, e2])\n",
    "plt.subplot(1,2,2)\n",
    "plot_vectors([v1,v2])\n",
    "plt.tight_layout()\n",
    "#help(plt.Circle)\n",
    "plt.Circle(np.array([0,0]),radius=1)\n",
    "plt.Circle.draw"
   ]
  },
  {
   "cell_type": "code",
   "execution_count": null,
   "metadata": {},
   "outputs": [],
   "source": []
  },
  {
   "cell_type": "code",
   "execution_count": 7,
   "metadata": {},
   "outputs": [],
   "source": [
    "\n",
    "\n",
    "def plot_vectors(vs):\n",
    "    \"\"\"Plot vectors in vs assuming origin at (0,0).\"\"\"\n",
    "    n = len(vs)\n",
    "    X, Y = np.zeros((n, 2))\n",
    "    U, V = np.vstack(vs).T\n",
    "    plt.quiver(X, Y, U, V, range(n), angles='xy', scale_units='xy', scale=1)\n",
    "    xmin, xmax = np.min([U, X]), np.max([U, X])\n",
    "    ymin, ymax = np.min([V, Y]), np.max([V, Y])\n",
    "    xrng = xmax - xmin\n",
    "    yrng = ymax - ymin\n",
    "    xmin -= 0.05*xrng\n",
    "    xmax += 0.05*xrng\n",
    "    ymin -= 0.05*yrng\n",
    "    ymax += 0.05*yrng\n",
    "    plt.axis([xmin, xmax, ymin, ymax])"
   ]
  },
  {
   "cell_type": "code",
   "execution_count": null,
   "metadata": {},
   "outputs": [],
   "source": []
  },
  {
   "cell_type": "markdown",
   "metadata": {},
   "source": [
    "Example - Change to a Different Basis\n",
    "Now, consider a second pair of (linearly independent) vectors in $R^2$, say $v1$ and $v2$, and suppose that the coordinates of $v1$ in the basis $e1$,$e2$ are $(1,3)$ and that the coordinates of v2 in the basis e1,e2 are (4,1). We first find the transformation that takes e1 to v1 and e2 to v2. A matrix representation for this (in the e1,e2 basis) is:\n",
    "\n",
    "$$\n",
    "A = \n",
    "\\left[\\begin{matrix}\n",
    "1 & 4\\\\\n",
    "3 & 1\n",
    "\\end{matrix}\\right]\n",
    "$$\n",
    "Our original transformation $f$ can be expressed with respect to the basis $v1$,$v2$ via\n",
    "\n",
    "$\n",
    "BAB^−1\n",
    "$"
   ]
  },
  {
   "cell_type": "code",
   "execution_count": 8,
   "metadata": {},
   "outputs": [
    {
     "name": "stdout",
     "output_type": "stream",
     "text": [
      "[2 3]\n",
      "[1 1]\n",
      "Av1: \n",
      "[5 6]\n",
      "Av2: \n",
      "[ 9 13]\n",
      "[[1 4]\n",
      " [3 1]]\n",
      "B B_inv \n",
      "[[1. 0.]\n",
      " [0. 1.]]\n",
      "[[0.0909 4.6364]\n",
      " [0.2727 2.9091]]\n",
      "[[-0.0909  0.3636]\n",
      " [ 0.2727 -0.0909]]\n"
     ]
    },
    {
     "data": {
      "text/plain": [
       "array([0.0909, 0.    ])"
      ]
     },
     "execution_count": 8,
     "metadata": {},
     "output_type": "execute_result"
    }
   ],
   "source": [
    "A = np.array([[2,1],[3,1]])  # transformation f in standard basis\n",
    "e1 = np.array([1,0])         # standard basis vectors e1,e2\n",
    "e2 = np.array([0,1])\n",
    "\n",
    "print(A.dot(e1))             # demonstrate that Ae1 is (2,3)\n",
    "print(A.dot(e2))             # demonstrate that Ae2 is (1,1)\n",
    "\n",
    "# new basis vectors\n",
    "v1 = np.array([1,3])\n",
    "v2 = np.array([4,1])\n",
    "\n",
    "# How v1 and v2 are transformed by A\n",
    "print(\"Av1: \")\n",
    "print(A.dot(v1))\n",
    "print(\"Av2: \")\n",
    "print(A.dot(v2))\n",
    "\n",
    "# Change of basis from standard to v1,v2\n",
    "B = np.array([[1,4],[3,1]])\n",
    "print(B)\n",
    "B_inv = linalg.inv(B)\n",
    "\n",
    "print(\"B B_inv \")\n",
    "print(B.dot(B_inv))   # check inverse\n",
    "\n",
    "# Matrix of the transformation with respect to the new basis\n",
    "T = B.dot(A.dot(B_inv))        # B A B^{-1}\n",
    "\n",
    "print(T)\n",
    "\n",
    "print(B_inv)\n",
    "np.dot(B_inv,(T.dot(e1)))"
   ]
  },
  {
   "cell_type": "markdown",
   "metadata": {},
   "source": [
    "You probably learned that the ‘norm’ of a vector v∈Rn, denoted ||v|| is simply its length. For a vector with components\n",
    "\n",
    "$v=(v1,...,vn)$\n",
    "   $thenormof:math:‘v‘isgivenby:$\n",
    "$\n",
    "||v||=\n",
    "\\sqrt( v1^2+...+v2^n)$\n",
    "This natural definition of a norm comes from the distance formula. Recall that for two points (x1,y1),(x0,y0) in the plane, the distance between them is given by:\n",
    "\n",
    "$D=\n",
    "\\sqrt(x1−x0)^2+(y1−y0)^2\n",
    " $\n",
    "The length of a vector in Rn is the distance from the origin, so\n",
    "\n",
    "$||v||=\n",
    "\\sqrt ((v1−0)^2+...+(vn−0)^2)  = \\sqrt (v1^2+...+v2^n )$\n",
    "The distance between two vectors is the length of their difference:\n",
    "\n",
    "$d(v,w)=||v−w||$"
   ]
  },
  {
   "cell_type": "code",
   "execution_count": 9,
   "metadata": {},
   "outputs": [
    {
     "data": {
      "text/plain": [
       "2.23606797749979"
      ]
     },
     "execution_count": 9,
     "metadata": {},
     "output_type": "execute_result"
    }
   ],
   "source": [
    "# norm of a vector\n",
    "# Note: The numpy linalg package is imported at the top of this notebook\n",
    "\n",
    "\n",
    "v = np.array([1,2])\n",
    "linalg.norm(v)"
   ]
  },
  {
   "cell_type": "code",
   "execution_count": 10,
   "metadata": {},
   "outputs": [
    {
     "data": {
      "text/plain": [
       "1.0"
      ]
     },
     "execution_count": 10,
     "metadata": {},
     "output_type": "execute_result"
    }
   ],
   "source": [
    "# distance between two vectors\n",
    "\n",
    "w = np.array([1,1])\n",
    "linalg.norm(v-w)"
   ]
  },
  {
   "cell_type": "code",
   "execution_count": 11,
   "metadata": {},
   "outputs": [
    {
     "data": {
      "text/plain": [
       "array([[1. , 0.6],\n",
       "       [0.6, 4. ]])"
      ]
     },
     "execution_count": 11,
     "metadata": {},
     "output_type": "execute_result"
    }
   ],
   "source": [
    "\n",
    "A = np.array([[1,0.6],[0.6,4]])\n",
    "A"
   ]
  },
  {
   "cell_type": "markdown",
   "metadata": {},
   "source": [
    "$QR$\n",
    "This method is very similar to the LU decomposition. The equation to be solved is of the form $Ax = B$. In this particular case, the matrix $A = QR$, where $Q$ is an orthogonal matrix and R is an upper triangular matrix.\n",
    "\n",
    "  $\n",
    "  [Ax=B]\n",
    "  $\n",
    "\n",
    "  $\n",
    "  [A=QR]\n",
    "  $\n",
    "\n",
    "What are the properties of an orthogonal matrix?\n",
    "\n",
    "It is a square matrix; \\n\n",
    "Multiplying Q for its transpose, we obtain the identity matrix;\n",
    "$\n",
    "QQ^{T}=Q^{T}Q=I\n",
    "$\n",
    "The inverse of an orthogonal matrix is equal to its transpose;\n",
    "$\n",
    "Q^{T}=Q^{-1}\n",
    "$"
   ]
  },
  {
   "cell_type": "code",
   "execution_count": 12,
   "metadata": {},
   "outputs": [
    {
     "name": "stdout",
     "output_type": "stream",
     "text": [
      "[  6.  15. -23.]\n"
     ]
    },
    {
     "data": {
      "text/plain": [
       "[<matplotlib.lines.Line2D at 0x2a1a3b5b760>,\n",
       " <matplotlib.lines.Line2D at 0x2a1a3b5b700>,\n",
       " <matplotlib.lines.Line2D at 0x2a1a3b5b820>]"
      ]
     },
     "execution_count": 12,
     "metadata": {},
     "output_type": "execute_result"
    },
    {
     "data": {
      "image/png": "[encoded data removed]",
      "text/plain": [
       "<Figure size 432x288 with 1 Axes>"
      ]
     },
     "metadata": {},
     "output_type": "display_data"
    }
   ],
   "source": [
    "A = np.array([\n",
    "[2., 1., 1.],\n",
    "[1., 3., 2.],\n",
    "[1., 0., 0]])\n",
    "B = np.array([4., 5., 6.])\n",
    "Q, R = linalg.qr(A) # QR decomposition with qr function\n",
    "y = np.dot(Q.T, B) # Let y=Q'.B using matrix multiplication\n",
    "x = linalg.solve(R, y) # Solve Rx=y\n",
    "print (x)\n",
    "plt.plot(Q, R)"
   ]
  },
  {
   "cell_type": "code",
   "execution_count": 13,
   "metadata": {},
   "outputs": [
    {
     "data": {
      "text/plain": [
       "True"
      ]
     },
     "execution_count": 13,
     "metadata": {},
     "output_type": "execute_result"
    }
   ],
   "source": [
    "np.allclose((la.norm(Q[:,0]), la.norm(Q[:,1])), (1,1))"
   ]
  },
  {
   "cell_type": "code",
   "execution_count": 14,
   "metadata": {},
   "outputs": [
    {
     "data": {
      "text/plain": [
       "True"
      ]
     },
     "execution_count": 14,
     "metadata": {},
     "output_type": "execute_result"
    }
   ],
   "source": [
    "np.allclose(Q@R, A)"
   ]
  },
  {
   "cell_type": "markdown",
   "metadata": {},
   "source": [
    "$Spectral$"
   ]
  },
  {
   "cell_type": "code",
   "execution_count": 15,
   "metadata": {},
   "outputs": [
    {
     "data": {
      "text/plain": [
       "[<mpl_toolkits.mplot3d.art3d.Line3D at 0x2a1a3c2b400>]"
      ]
     },
     "execution_count": 15,
     "metadata": {},
     "output_type": "execute_result"
    },
    {
     "data": {
      "image/png": "[encoded data removed]",
      "text/plain": [
       "<Figure size 432x288 with 2 Axes>"
      ]
     },
     "metadata": {},
     "output_type": "display_data"
    }
   ],
   "source": [
    "from mpl_toolkits import mplot3d\n",
    "fig = plt.figure()\n",
    "ax = plt.axes(projection='3d')\n",
    "u, v = la.eig(A)\n",
    "# fig = plt.figure(figsize = (10, 5))\n",
    "X=v[0]\n",
    "Y=v[1]\n",
    "Z=[2]\n",
    "# plt.plot(u, v)\n",
    "ax = plt.axes(projection='3d')\n",
    "ax.plot3D(X, Y, Z, 'gray')\n",
    "\n",
    "# ax.scatter3D(xdata, ydata, zdata, c=zdata, cmap='Greens');"
   ]
  },
  {
   "cell_type": "code",
   "execution_count": null,
   "metadata": {},
   "outputs": [],
   "source": []
  },
  {
   "cell_type": "code",
   "execution_count": 16,
   "metadata": {},
   "outputs": [
    {
     "data": {
      "text/plain": [
       "True"
      ]
     },
     "execution_count": 16,
     "metadata": {},
     "output_type": "execute_result"
    }
   ],
   "source": [
    "np.allclose((la.norm(v[:,0]), la.norm(v[:,1])), (1,1))"
   ]
  },
  {
   "cell_type": "code",
   "execution_count": 17,
   "metadata": {},
   "outputs": [
    {
     "data": {
      "text/plain": [
       "False"
      ]
     },
     "execution_count": 17,
     "metadata": {},
     "output_type": "execute_result"
    }
   ],
   "source": [
    "np.allclose(v @ np.diag(u) @ v.T, A)"
   ]
  },
  {
   "cell_type": "code",
   "execution_count": 18,
   "metadata": {},
   "outputs": [
    {
     "name": "stdout",
     "output_type": "stream",
     "text": [
      "Null Space :  Matrix([[-2], [1], [0]])\n",
      "Matrix([[0], [0], [0]])\n"
     ]
    }
   ],
   "source": [
    "from sympy import Matrix\n",
    "# List A \n",
    "A = [[1, 2, 0], [2, 4, 0], [3, 6, 1]]\n",
    "  \n",
    "# Matrix A\n",
    "A = Matrix(A)\n",
    "  \n",
    "# Null Space of A\n",
    "NullSpace = A.nullspace()   # Here NullSpace is a list\n",
    "  \n",
    "NullSpace = Matrix(NullSpace)   # Here NullSpace is a Matrix\n",
    "print(\"Null Space : \", NullSpace)\n",
    "  \n",
    "# checking whether NullSpace satisfies the\n",
    "# given condition or not as A * NullSpace = 0\n",
    "# if NullSpace is null space of A\n",
    "print(A * NullSpace)"
   ]
  },
  {
   "cell_type": "code",
   "execution_count": 19,
   "metadata": {},
   "outputs": [
    {
     "name": "stdout",
     "output_type": "stream",
     "text": [
      "Nullity :  1\n"
     ]
    }
   ],
   "source": [
    "from sympy import Matrix\n",
    "  \n",
    "A = [[1, 2, 0], [2, 4, 0], [3, 6, 1]]\n",
    "   \n",
    "A = Matrix(A)\n",
    "  \n",
    "# Number of Columns\n",
    "NoC = A.shape[1]\n",
    "  \n",
    "# Rank of A\n",
    "rank = A.rank()\n",
    "  \n",
    "# Nullity of the Matrix\n",
    "nullity = NoC - rank\n",
    "  \n",
    "print(\"Nullity : \", nullity)"
   ]
  }
 ],
 "metadata": {
  "interpreter": {
   "hash": "6ac950616e1c72d30a39f07944f82c339b74ee5964f2b2f3ae92ce3632a6e18b"
  },
  "kernelspec": {
   "display_name": "Python 3.10.1 64-bit",
   "language": "python",
   "name": "python3"
  },
  "language_info": {
   "codemirror_mode": {
    "name": "ipython",
    "version": 3
   },
   "file_extension": ".py",
   "mimetype": "text/x-python",
   "name": "python",
   "nbconvert_exporter": "python",
   "pygments_lexer": "ipython3",
   "version": "3.10.1"
  },
  "orig_nbformat": 4
 },
 "nbformat": 4,
 "nbformat_minor": 2
}
